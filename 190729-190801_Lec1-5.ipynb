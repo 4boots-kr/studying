{
 "cells": [
  {
   "cell_type": "markdown",
   "metadata": {},
   "source": [
    "━━━━━━━━━━━━━━━━━━━━━━━━━━━━\n",
    "§ Lec 01 기본적 머신러닝 용어와 개념 설명\n",
    "\n",
    " ㅇ머신러닝: 데이터 기반으로 학습하여 컴퓨터가 프로그래밍\n",
    " ㅇ머신러닝의 종류: 학습 방식에 따라 레이블링된 데이터 기반의 지도학습(supervised learning),  un-labeled data 기반 비지도 학습\n",
    " ㅇ지도학습의 종류: classification(분류), regression(추정)\n"
   ]
  },
  {
   "cell_type": "code",
   "execution_count": null,
   "metadata": {},
   "outputs": [],
   "source": [
    "#코딩 없음"
   ]
  },
  {
   "cell_type": "markdown",
   "metadata": {},
   "source": [
    "━━━━━━━━━━━━━━━━━━━━━━━━━━━━"
   ]
  },
  {
   "cell_type": "markdown",
   "metadata": {},
   "source": []
  },
  {
   "cell_type": "markdown",
   "metadata": {},
   "source": [
    "\n",
    "§Lec 02 Simple Linear Regression\n",
    "\n",
    " ㅇ 리그레션 개념: 후퇴, 되돌아 간다 -> ‘regression toward the mean’\n",
    " ㅇLinear Regression 선형회귀: 데이터를 가장 잘 대변하는 직선의 방정식을 찾는 것\n",
    "   특히 기울기와 y절편 찾는 것 \n",
    "   가설 H(x) = W*x + b\n",
    " ㅇ 비용 cost : H(x) - y    : 가설과 실제y값 차이\n",
    "     -> 오차가 음수 일수도 있으므로 제곱의 평균을 구하고, \n",
    "     -> Cost function을 최소화 -> 데이터를 가장 잘 대변하는 직선의 방정식 찾기\n",
    "     \n",
    "    𝑐𝑜𝑠𝑡(𝑊)=1/𝑚*∑𝑖=1𝑚(𝑊𝑥𝑖−𝑦𝑖)2    \n",
    "    *cost function = loss function\n"
   ]
  },
  {
   "cell_type": "code",
   "execution_count": 2,
   "metadata": {},
   "outputs": [],
   "source": [
    "#텐서플로, 넘파이 임포트\n",
    "import tensorflow as tf\n",
    "import numpy as np\n",
    "\n",
    "# ??? Eager execution(즉시 실행) -> 그래프 생성 없이 연산을 즉시 실행하는 명령형 프로그래밍 환경??? \n",
    "tf.enable_eager_execution()"
   ]
  },
  {
   "cell_type": "code",
   "execution_count": 3,
   "metadata": {},
   "outputs": [],
   "source": [
    "#데이터 list 형태로 입력\n",
    "x_data = [1,2,3,4,5]\n",
    "y_data = [1,2,3,4,5]"
   ]
  },
  {
   "cell_type": "code",
   "execution_count": 7,
   "metadata": {},
   "outputs": [
    {
     "data": {
      "text/plain": [
       "(0, 8)"
      ]
     },
     "execution_count": 7,
     "metadata": {},
     "output_type": "execute_result"
    },
    {
     "data": {
      "image/png": "[encoded data removed]",
      "text/plain": [
       "<Figure size 432x288 with 1 Axes>"
      ]
     },
     "metadata": {
      "needs_background": "light"
     },
     "output_type": "display_data"
    }
   ],
   "source": [
    "#맷플롯립 임포트하고 x,y 그래프 생성, y범위는 0~8로 지정\n",
    "import matplotlib.pyplot as plt\n",
    "\n",
    "plt.plot(x_data, y_data, 'o')\n",
    "plt.ylim(0,8)\n",
    "\n",
    "#여기까지 데이터 입력하고 확인함"
   ]
  },
  {
   "cell_type": "code",
   "execution_count": 8,
   "metadata": {},
   "outputs": [
    {
     "data": {
      "text/plain": [
       "<tf.Tensor: id=6, shape=(), dtype=float32, numpy=2.5>"
      ]
     },
     "execution_count": 8,
     "metadata": {},
     "output_type": "execute_result"
    }
   ],
   "source": [
    "# ??? 리듀스_민 함수로 무슨짓 함\n",
    "# 제거할 차원을 인풋으로 넣고, 차원을 제거하고 전체의 평균 구함\n",
    "# ??? v에 입력한 값은 뭔지, 2.5 주석 처리한거 무슨 의미?\n",
    "\n",
    "v = [1., 2., 3., 4.]\n",
    "tf.reduce_mean(v) #2.5"
   ]
  },
  {
   "cell_type": "code",
   "execution_count": 11,
   "metadata": {},
   "outputs": [
    {
     "data": {
      "text/plain": [
       "<tf.Tensor: id=32, shape=(), dtype=int32, numpy=9>"
      ]
     },
     "execution_count": 11,
     "metadata": {},
     "output_type": "execute_result"
    }
   ],
   "source": [
    "# ??? tf.square 로 제곱하는데 왜하는지?\n",
    "tf.square(3)"
   ]
  },
  {
   "cell_type": "code",
   "execution_count": 10,
   "metadata": {},
   "outputs": [
    {
     "name": "stdout",
     "output_type": "stream",
     "text": [
      "WARNING:tensorflow:From C:\\Users\\vrkni\\Anaconda3\\lib\\site-packages\\tensorflow\\python\\ops\\resource_variable_ops.py:642: colocate_with (from tensorflow.python.framework.ops) is deprecated and will be removed in a future version.\n",
      "Instructions for updating:\n",
      "Colocations handled automatically by placer.\n"
     ]
    }
   ],
   "source": [
    "x_data = [1, 2, 3, 4, 5]\n",
    "y_data = [1, 2, 3, 4, 5]\n",
    "\n",
    "#tf.Variable 는 텐서를 메모리에 저장하는 변수. 즉 모델 파라미터를 저장할 변수 지정함\n",
    "#Variable 들은 초기화 필요함\n",
    "#가중치 W와 b 초기화\n",
    "\n",
    "W = tf.Variable(2.0)\n",
    "b = tf.Variable(0.5)\n",
    "\n",
    "#hypothesis 설정\n",
    "hypothesis = W * x_data + b"
   ]
  },
  {
   "cell_type": "code",
   "execution_count": 13,
   "metadata": {},
   "outputs": [
    {
     "data": {
      "text/plain": [
       "(2.0, 0.5)"
      ]
     },
     "execution_count": 13,
     "metadata": {},
     "output_type": "execute_result"
    }
   ],
   "source": [
    "# ??? 뭔가 함\n",
    "W.numpy(), b.numpy()"
   ]
  },
  {
   "cell_type": "code",
   "execution_count": 12,
   "metadata": {},
   "outputs": [
    {
     "data": {
      "text/plain": [
       "array([ 2.5,  4.5,  6.5,  8.5, 10.5], dtype=float32)"
      ]
     },
     "execution_count": 12,
     "metadata": {},
     "output_type": "execute_result"
    }
   ],
   "source": [
    "#??? 뭔가 확인하는듯\n",
    "hypothesis.numpy()"
   ]
  },
  {
   "cell_type": "code",
   "execution_count": 15,
   "metadata": {},
   "outputs": [
    {
     "data": {
      "image/png": "[encoded data removed]",
      "text/plain": [
       "<Figure size 432x288 with 1 Axes>"
      ]
     },
     "metadata": {
      "needs_background": "light"
     },
     "output_type": "display_data"
    }
   ],
   "source": [
    "#초기값으로 모델 확인\n",
    "plt.plot(x_data, hypothesis.numpy(), 'r-')\n",
    "plt.plot(x_data, y_data, 'o')\n",
    "plt.ylim(0,8)\n",
    "plt.show()"
   ]
  },
  {
   "cell_type": "code",
   "execution_count": 16,
   "metadata": {},
   "outputs": [],
   "source": [
    "#코스트 펑션 정의\n",
    "#코스트 = 가설값-실제값의 제곱의 평균\n",
    "cost = tf.reduce_mean(tf.square(hypothesis - y_data))"
   ]
  },
  {
   "cell_type": "code",
   "execution_count": 17,
   "metadata": {},
   "outputs": [
    {
     "data": {
      "text/plain": [
       "(25.0, 7.0)"
      ]
     },
     "execution_count": 17,
     "metadata": {},
     "output_type": "execute_result"
    }
   ],
   "source": [
    "#그래디언트 테입에 변수를 기록하고 w와 b 업데이트 \n",
    "with tf.GradientTape() as tape:\n",
    "    hypothesis = W *x_data+ b\n",
    "    cost = tf.reduce_mean(tf.square(hypothesis - y_data))\n",
    "\n",
    "W_grad, b_grad = tape.gradient(cost, [W,b])\n",
    "W_grad.numpy(), b_grad.numpy()\n"
   ]
  },
  {
   "cell_type": "code",
   "execution_count": 18,
   "metadata": {},
   "outputs": [
    {
     "data": {
      "text/plain": [
       "(1.75, 0.43)"
      ]
     },
     "execution_count": 18,
     "metadata": {},
     "output_type": "execute_result"
    }
   ],
   "source": [
    "#파라미터 업데이트\n",
    "learning_rate = 0.01\n",
    "W.assign_sub(learning_rate * W_grad)\n",
    "b.assign_sub(learning_rate * b_grad)\n",
    "\n",
    "W.numpy(), b.numpy()"
   ]
  },
  {
   "cell_type": "code",
   "execution_count": 22,
   "metadata": {},
   "outputs": [
    {
     "data": {
      "text/plain": [
       "(0, 8)"
      ]
     },
     "execution_count": 22,
     "metadata": {},
     "output_type": "execute_result"
    },
    {
     "data": {
      "image/png": "[encoded data removed]",
      "text/plain": [
       "<Figure size 432x288 with 1 Axes>"
      ]
     },
     "metadata": {
      "needs_background": "light"
     },
     "output_type": "display_data"
    }
   ],
   "source": [
    "plt.plot(x_data, hypothesis.numpy(), 'r-')\n",
    "plt.plot(x_data, y_data, 'o')\n",
    "plt.ylim(0, 8)"
   ]
  },
  {
   "cell_type": "code",
   "execution_count": 24,
   "metadata": {},
   "outputs": [
    {
     "name": "stdout",
     "output_type": "stream",
     "text": [
      "    0|    2.4520|    0.3760| 45.660004\n",
      "   10|    1.1036|    0.0034|  0.206336\n",
      "   20|    1.0128|   -0.0209|  0.001026\n",
      "   30|    1.0065|   -0.0218|  0.000093\n",
      "   40|    1.0059|   -0.0212|  0.000083\n",
      "   50|    1.0057|   -0.0205|  0.000077\n",
      "   60|    1.0055|   -0.0198|  0.000072\n",
      "   70|    1.0053|   -0.0192|  0.000067\n",
      "   80|    1.0051|   -0.0185|  0.000063\n",
      "   90|    1.0050|   -0.0179|  0.000059\n"
     ]
    },
    {
     "data": {
      "image/png": "[encoded data removed]",
      "text/plain": [
       "<Figure size 432x288 with 1 Axes>"
      ]
     },
     "metadata": {
      "needs_background": "light"
     },
     "output_type": "display_data"
    }
   ],
   "source": [
    "#여러번 반복\n",
    "W = tf.Variable(2.9)\n",
    "b = tf.Variable(0.5)\n",
    "\n",
    "for i in range(100):\n",
    "    with tf.GradientTape() as tape:\n",
    "        hypothesis = W * x_data + b\n",
    "        cost = tf.reduce_mean(tf.square(hypothesis - y_data))\n",
    "        W_grad, b_grad = tape.gradient(cost, [W, b])\n",
    "        W.assign_sub(learning_rate * W_grad)\n",
    "        b.assign_sub(learning_rate * b_grad)\n",
    "        if i % 10 ==0:\n",
    "            print(\"{:5}|{:10.4f}|{:10.4f}|{:10.6f}\".format(i, W.numpy(), b.numpy(), cost))\n",
    "    # ??? 뭘 프린트하는지 잘 이해 안감 \n",
    "    \n",
    "    plt.plot(x_data, y_data, 'o')\n",
    "    plt.plot(x_data, hypothesis.numpy(), 'r-')\n",
    "    plt.ylim(0,8)"
   ]
  },
  {
   "cell_type": "code",
   "execution_count": 25,
   "metadata": {},
   "outputs": [
    {
     "name": "stdout",
     "output_type": "stream",
     "text": [
      "tf.Tensor(5.0066934, shape=(), dtype=float32)\n",
      "tf.Tensor(2.4946523, shape=(), dtype=float32)\n"
     ]
    }
   ],
   "source": [
    "#모델을 만들었으니 이제 예측\n",
    "print(W * 5 + b)\n",
    "print(W * 2.5 + b)"
   ]
  },
  {
   "cell_type": "code",
   "execution_count": null,
   "metadata": {},
   "outputs": [],
   "source": []
  },
  {
   "cell_type": "markdown",
   "metadata": {},
   "source": [
    "━━━━━━━━━━━━━━━━━━━━━━━━━━━━"
   ]
  },
  {
   "cell_type": "markdown",
   "metadata": {},
   "source": []
  },
  {
   "attachments": {},
   "cell_type": "markdown",
   "metadata": {},
   "source": [
    "\n",
    "§ Lec 03 Simple Linear Regression and how to minimize cost\n",
    " ㅇ Hypothesis 가설 모델 : H(x) = W*x + b   -> 학습: cost function 최소화\n",
    "\n",
    " ㅇ W(가중치 또는 기울기)에 따라 Cost function 변화 \n",
    "     -> Cost function 최소화 하는 W 찾기 -> 학습\n",
    " \n",
    " ㅇ Gradient descent algorithm\n",
    "    Cost function 최저점 찾기 위한 알고리즘\n",
    "    W 랜덤(초기값) 부여 -> 업데이트\n",
    "    이를 위해 그래디언트 디센트 알고리즘에서는 코스트펑션 W편미분값을 러닝레이트와 곱한 값을 기존값에서 빼면서 W 업데이트\n",
    "    *그래디언트 디센트 사용시 컨벡스 펑션(로컬미니멈 = 글로벌 미니멈) 아닌 경우 코스트펑션의 미니멈값 찾는데에 한계 발생함\n",
    "    \n"
   ]
  },
  {
   "cell_type": "code",
   "execution_count": 26,
   "metadata": {},
   "outputs": [
    {
     "data": {
      "text/plain": [
       "'1.13.1'"
      ]
     },
     "execution_count": 26,
     "metadata": {},
     "output_type": "execute_result"
    }
   ],
   "source": [
    "import tensorflow as tf\n",
    "import numpy as np\n",
    "\n",
    "tf.enable_eager_execution()\n",
    "tf.__version__\n"
   ]
  },
  {
   "cell_type": "code",
   "execution_count": 27,
   "metadata": {},
   "outputs": [
    {
     "name": "stdout",
     "output_type": "stream",
     "text": [
      "-3.000|  74.66667\n",
      "-2.429|  54.85714\n",
      "-1.857|  38.09524\n",
      "-1.286|  24.38095\n",
      "-0.714|  13.71429\n",
      "-0.143|   6.09524\n",
      " 0.429|   1.52381\n",
      " 1.000|   0.00000\n",
      " 1.571|   1.52381\n",
      " 2.143|   6.09524\n",
      " 2.714|  13.71429\n",
      " 3.286|  24.38095\n",
      " 3.857|  38.09524\n",
      " 4.429|  54.85714\n",
      " 5.000|  74.66667\n"
     ]
    }
   ],
   "source": [
    "X = np.array([1,2,3])\n",
    "Y = np.array([1,2,3])\n",
    "\n",
    "def cost_func(W, X, Y):\n",
    "    c = 0\n",
    "    for i in range(len(X)):\n",
    "        c += (W * X[i] - Y[i]) ** 2\n",
    "    return c / len(X)\n",
    "\n",
    "for feed_W in np.linspace(-3, 5, num=15):\n",
    "    curr_cost = cost_func(feed_W, X, Y)\n",
    "    print(\"{:6.3f}|{:10.5f}\".format(feed_W, curr_cost))\n",
    "    #??? 프린트 하는 규칙 뭥미?\n",
    "\n"
   ]
  },
  {
   "cell_type": "code",
   "execution_count": 30,
   "metadata": {},
   "outputs": [
    {
     "name": "stdout",
     "output_type": "stream",
     "text": [
      "-3.000 |   74.66667\n",
      "-2.429 |   54.85714\n",
      "-1.857 |   38.09524\n",
      "-1.286 |   24.38095\n",
      "-0.714 |   13.71429\n",
      "-0.143 |    6.09524\n",
      " 0.429 |    1.52381\n",
      " 1.000 |    0.00000\n",
      " 1.571 |    1.52381\n",
      " 2.143 |    6.09524\n",
      " 2.714 |   13.71429\n",
      " 3.286 |   24.38095\n",
      " 3.857 |   38.09524\n",
      " 4.429 |   54.85714\n",
      " 5.000 |   74.66667\n"
     ]
    }
   ],
   "source": [
    "X = np.array([1,2,3])\n",
    "Y = np.array([1,2,3])\n",
    "\n",
    "def cost_func(W, X, Y):\n",
    "  hypothesis = X * W\n",
    "  return tf.reduce_mean(tf.square(hypothesis - Y))\n",
    "                         \n",
    "W_values = np.linspace(-3, 5, num=15)\n",
    "cost_values = []\n",
    "\n",
    "for feed_W in W_values:\n",
    "    curr_cost = cost_func(feed_W, X, Y)\n",
    "    cost_values.append(curr_cost)\n",
    "    print(\"{:6.3f} | {:10.5f}\".format(feed_W, curr_cost))\n",
    "    "
   ]
  },
  {
   "cell_type": "code",
   "execution_count": 32,
   "metadata": {},
   "outputs": [
    {
     "data": {
      "image/png": "[encoded data removed]",
      "text/plain": [
       "<Figure size 576x432 with 1 Axes>"
      ]
     },
     "metadata": {
      "needs_background": "light"
     },
     "output_type": "display_data"
    }
   ],
   "source": [
    "import matplotlib.pyplot as plt\n",
    "plt.rcParams[\"figure.figsize\"]= (8,6)\n",
    "\n",
    "plt.plot(W_values, cost_values, \"b\")\n",
    "plt.ylabel('Cost(W)')\n",
    "plt.xlabel('W')\n",
    "plt.show()"
   ]
  },
  {
   "cell_type": "code",
   "execution_count": 40,
   "metadata": {},
   "outputs": [
    {
     "name": "stdout",
     "output_type": "stream",
     "text": [
      "    0 | 11716.3086 |  50.872433\n",
      "   10 | 10669.9326 |  48.593319\n",
      "   20 |  9717.0088 |  46.418362\n",
      "   30 |  8849.1904 |  44.342796\n",
      "   40 |  8058.8794 |  42.362091\n",
      "   50 |  7339.1470 |  40.471893\n",
      "   60 |  6683.6953 |  38.668079\n",
      "   70 |  6086.7778 |  36.946690\n",
      "   80 |  5543.1733 |  35.303970\n",
      "   90 |  5048.1167 |  33.736320\n",
      "  100 |  4597.2720 |  32.240303\n",
      "  110 |  4186.6934 |  30.812660\n",
      "  120 |  3812.7825 |  29.450256\n",
      "  130 |  3472.2664 |  28.150116\n",
      "  140 |  3162.1609 |  26.909388\n",
      "  150 |  2879.7502 |  25.725355\n",
      "  160 |  2622.5613 |  24.595434\n",
      "  170 |  2388.3425 |  23.517151\n",
      "  180 |  2175.0408 |  22.488142\n",
      "  190 |  1980.7894 |  21.506159\n",
      "  200 |  1803.8867 |  20.569052\n",
      "  210 |  1642.7828 |  19.674770\n",
      "  220 |  1496.0675 |  18.821356\n",
      "  230 |  1362.4546 |  18.006939\n",
      "  240 |  1240.7749 |  17.229744\n",
      "  250 |  1129.9623 |  16.488064\n",
      "  260 |  1029.0468 |  15.780282\n",
      "  270 |   937.1434 |  15.104840\n",
      "  280 |   853.4478 |  14.460266\n",
      "  290 |   777.2271 |  13.845148\n",
      "  300 |   707.8135 |  13.258140\n",
      "  310 |   644.5992 |  12.697957\n",
      "  320 |   587.0307 |  12.163376\n",
      "  330 |   534.6033 |  11.653223\n",
      "  340 |   486.8583 |  11.166383\n",
      "  350 |   443.3773 |  10.701790\n",
      "  360 |   403.7796 |  10.258430\n",
      "  370 |   367.7185 |   9.835333\n",
      "  380 |   334.8779 |   9.431569\n",
      "  390 |   304.9702 |   9.046256\n",
      "  400 |   277.7335 |   8.678552\n",
      "  410 |   252.9294 |   8.327651\n",
      "  420 |   230.3405 |   7.992787\n",
      "  430 |   209.7690 |   7.673225\n",
      "  440 |   191.0347 |   7.368268\n",
      "  450 |   173.9735 |   7.077245\n",
      "  460 |   158.4362 |   6.799523\n",
      "  470 |   144.2864 |   6.534493\n",
      "  480 |   131.4003 |   6.281574\n",
      "  490 |   119.6651 |   6.040213\n",
      "  500 |   108.9779 |   5.809881\n",
      "  510 |    99.2451 |   5.590075\n",
      "  520 |    90.3816 |   5.380314\n",
      "  530 |    82.3097 |   5.180139\n",
      "  540 |    74.9587 |   4.989112\n",
      "  550 |    68.2642 |   4.806814\n",
      "  560 |    62.1676 |   4.632848\n",
      "  570 |    56.6154 |   4.466830\n",
      "  580 |    51.5591 |   4.308400\n",
      "  590 |    46.9545 |   4.157210\n",
      "  600 |    42.7610 |   4.012929\n",
      "  610 |    38.9420 |   3.875242\n",
      "  620 |    35.4642 |   3.743848\n",
      "  630 |    32.2969 |   3.618458\n",
      "  640 |    29.4125 |   3.498798\n",
      "  650 |    26.7857 |   3.384606\n",
      "  660 |    24.3935 |   3.275632\n",
      "  670 |    22.2149 |   3.171639\n",
      "  680 |    20.2309 |   3.072398\n",
      "  690 |    18.4241 |   2.977692\n",
      "  700 |    16.7787 |   2.887314\n",
      "  710 |    15.2802 |   2.801066\n",
      "  720 |    13.9155 |   2.718760\n",
      "  730 |    12.6728 |   2.640215\n",
      "  740 |    11.5410 |   2.565259\n",
      "  750 |    10.5103 |   2.493729\n",
      "  760 |     9.5716 |   2.425467\n",
      "  770 |     8.7168 |   2.360326\n",
      "  780 |     7.9383 |   2.298160\n",
      "  790 |     7.2293 |   2.238836\n",
      "  800 |     6.5837 |   2.182223\n",
      "  810 |     5.9957 |   2.128197\n",
      "  820 |     5.4602 |   2.076640\n",
      "  830 |     4.9726 |   2.027438\n",
      "  840 |     4.5285 |   1.980486\n",
      "  850 |     4.1240 |   1.935679\n",
      "  860 |     3.7557 |   1.892919\n",
      "  870 |     3.4203 |   1.852114\n",
      "  880 |     3.1148 |   1.813174\n",
      "  890 |     2.8367 |   1.776012\n",
      "  900 |     2.5833 |   1.740550\n",
      "  910 |     2.3526 |   1.706707\n",
      "  920 |     2.1425 |   1.674412\n",
      "  930 |     1.9512 |   1.643592\n",
      "  940 |     1.7769 |   1.614181\n",
      "  950 |     1.6182 |   1.586113\n",
      "  960 |     1.4737 |   1.559329\n",
      "  970 |     1.3421 |   1.533768\n",
      "  980 |     1.2222 |   1.509376\n",
      "  990 |     1.1131 |   1.486098\n",
      " 1000 |     1.0137 |   1.463884\n",
      " 1010 |     0.9231 |   1.442685\n",
      " 1020 |     0.8407 |   1.422455\n",
      " 1030 |     0.7656 |   1.403149\n",
      " 1040 |     0.6972 |   1.384726\n",
      " 1050 |     0.6350 |   1.367144\n",
      " 1060 |     0.5782 |   1.350366\n",
      " 1070 |     0.5266 |   1.334355\n",
      " 1080 |     0.4796 |   1.319075\n",
      " 1090 |     0.4367 |   1.304494\n",
      " 1100 |     0.3977 |   1.290579\n",
      " 1110 |     0.3622 |   1.277300\n",
      " 1120 |     0.3299 |   1.264628\n",
      " 1130 |     0.3004 |   1.252535\n",
      " 1140 |     0.2736 |   1.240994\n",
      " 1150 |     0.2491 |   1.229981\n",
      " 1160 |     0.2269 |   1.219472\n",
      " 1170 |     0.2066 |   1.209442\n",
      " 1180 |     0.1882 |   1.199871\n",
      " 1190 |     0.1714 |   1.190737\n",
      " 1200 |     0.1561 |   1.182020\n",
      " 1210 |     0.1421 |   1.173702\n",
      " 1220 |     0.1294 |   1.165764\n",
      " 1230 |     0.1179 |   1.158189\n",
      " 1240 |     0.1073 |   1.150960\n",
      " 1250 |     0.0978 |   1.144061\n",
      " 1260 |     0.0890 |   1.137478\n",
      " 1270 |     0.0811 |   1.131195\n",
      " 1280 |     0.0738 |   1.125200\n",
      " 1290 |     0.0672 |   1.119478\n",
      " 1300 |     0.0612 |   1.114018\n",
      " 1310 |     0.0558 |   1.108808\n",
      " 1320 |     0.0508 |   1.103835\n",
      " 1330 |     0.0463 |   1.099090\n",
      " 1340 |     0.0421 |   1.094562\n",
      " 1350 |     0.0384 |   1.090241\n",
      " 1360 |     0.0349 |   1.086117\n",
      " 1370 |     0.0318 |   1.082181\n",
      " 1380 |     0.0290 |   1.078426\n",
      " 1390 |     0.0264 |   1.074842\n",
      " 1400 |     0.0240 |   1.071422\n",
      " 1410 |     0.0219 |   1.068158\n",
      " 1420 |     0.0199 |   1.065043\n",
      " 1430 |     0.0181 |   1.062071\n",
      " 1440 |     0.0165 |   1.059234\n",
      " 1450 |     0.0151 |   1.056527\n",
      " 1460 |     0.0137 |   1.053943\n",
      " 1470 |     0.0125 |   1.051478\n",
      " 1480 |     0.0114 |   1.049126\n",
      " 1490 |     0.0104 |   1.046881\n",
      " 1500 |     0.0094 |   1.044738\n",
      " 1510 |     0.0086 |   1.042694\n",
      " 1520 |     0.0078 |   1.040743\n",
      " 1530 |     0.0071 |   1.038881\n",
      " 1540 |     0.0065 |   1.037104\n",
      " 1550 |     0.0059 |   1.035408\n",
      " 1560 |     0.0054 |   1.033790\n",
      " 1570 |     0.0049 |   1.032246\n",
      " 1580 |     0.0045 |   1.030773\n",
      " 1590 |     0.0041 |   1.029367\n",
      " 1600 |     0.0037 |   1.028025\n",
      " 1610 |     0.0034 |   1.026744\n",
      " 1620 |     0.0031 |   1.025522\n",
      " 1630 |     0.0028 |   1.024355\n",
      " 1640 |     0.0025 |   1.023242\n",
      " 1650 |     0.0023 |   1.022180\n",
      " 1660 |     0.0021 |   1.021167\n",
      " 1670 |     0.0019 |   1.020200\n",
      " 1680 |     0.0018 |   1.019277\n",
      " 1690 |     0.0016 |   1.018396\n",
      " 1700 |     0.0015 |   1.017555\n",
      " 1710 |     0.0013 |   1.016753\n",
      " 1720 |     0.0012 |   1.015987\n",
      " 1730 |     0.0011 |   1.015256\n",
      " 1740 |     0.0010 |   1.014559\n",
      " 1750 |     0.0009 |   1.013894\n",
      " 1760 |     0.0008 |   1.013259\n",
      " 1770 |     0.0008 |   1.012653\n",
      " 1780 |     0.0007 |   1.012075\n",
      " 1790 |     0.0006 |   1.011523\n",
      " 1800 |     0.0006 |   1.010996\n",
      " 1810 |     0.0005 |   1.010494\n",
      " 1820 |     0.0005 |   1.010014\n",
      " 1830 |     0.0004 |   1.009557\n",
      " 1840 |     0.0004 |   1.009120\n",
      " 1850 |     0.0004 |   1.008703\n",
      " 1860 |     0.0003 |   1.008305\n",
      " 1870 |     0.0003 |   1.007926\n",
      " 1880 |     0.0003 |   1.007564\n",
      " 1890 |     0.0002 |   1.007218\n",
      " 1900 |     0.0002 |   1.006888\n",
      " 1910 |     0.0002 |   1.006573\n",
      " 1920 |     0.0002 |   1.006273\n",
      " 1930 |     0.0002 |   1.005986\n",
      " 1940 |     0.0002 |   1.005713\n",
      " 1950 |     0.0001 |   1.005452\n",
      " 1960 |     0.0001 |   1.005203\n",
      " 1970 |     0.0001 |   1.004965\n",
      " 1980 |     0.0001 |   1.004738\n",
      " 1990 |     0.0001 |   1.004521\n",
      " 2000 |     0.0001 |   1.004315\n",
      " 2010 |     0.0001 |   1.004118\n",
      " 2020 |     0.0001 |   1.003929\n",
      " 2030 |     0.0001 |   1.003750\n",
      " 2040 |     0.0001 |   1.003579\n",
      " 2050 |     0.0001 |   1.003415\n",
      " 2060 |     0.0001 |   1.003259\n",
      " 2070 |     0.0000 |   1.003110\n",
      " 2080 |     0.0000 |   1.002968\n",
      " 2090 |     0.0000 |   1.002833\n",
      " 2100 |     0.0000 |   1.002703\n",
      " 2110 |     0.0000 |   1.002580\n",
      " 2120 |     0.0000 |   1.002462\n",
      " 2130 |     0.0000 |   1.002349\n",
      " 2140 |     0.0000 |   1.002242\n",
      " 2150 |     0.0000 |   1.002139\n",
      " 2160 |     0.0000 |   1.002042\n",
      " 2170 |     0.0000 |   1.001948\n",
      " 2180 |     0.0000 |   1.001859\n",
      " 2190 |     0.0000 |   1.001774\n",
      " 2200 |     0.0000 |   1.001693\n",
      " 2210 |     0.0000 |   1.001616\n",
      " 2220 |     0.0000 |   1.001542\n",
      " 2230 |     0.0000 |   1.001472\n",
      " 2240 |     0.0000 |   1.001404\n",
      " 2250 |     0.0000 |   1.001340\n",
      " 2260 |     0.0000 |   1.001279\n",
      " 2270 |     0.0000 |   1.001221\n",
      " 2280 |     0.0000 |   1.001165\n",
      " 2290 |     0.0000 |   1.001112\n",
      " 2300 |     0.0000 |   1.001061\n",
      " 2310 |     0.0000 |   1.001012\n",
      " 2320 |     0.0000 |   1.000966\n",
      " 2330 |     0.0000 |   1.000922\n",
      " 2340 |     0.0000 |   1.000880\n",
      " 2350 |     0.0000 |   1.000840\n",
      " 2360 |     0.0000 |   1.000801\n",
      " 2370 |     0.0000 |   1.000765\n",
      " 2380 |     0.0000 |   1.000730\n",
      " 2390 |     0.0000 |   1.000696\n",
      " 2400 |     0.0000 |   1.000664\n",
      " 2410 |     0.0000 |   1.000634\n",
      " 2420 |     0.0000 |   1.000605\n",
      " 2430 |     0.0000 |   1.000577\n",
      " 2440 |     0.0000 |   1.000551\n",
      " 2450 |     0.0000 |   1.000526\n",
      " 2460 |     0.0000 |   1.000502\n",
      " 2470 |     0.0000 |   1.000479\n",
      " 2480 |     0.0000 |   1.000457\n",
      " 2490 |     0.0000 |   1.000436\n",
      " 2500 |     0.0000 |   1.000416\n",
      " 2510 |     0.0000 |   1.000397\n",
      " 2520 |     0.0000 |   1.000379\n",
      " 2530 |     0.0000 |   1.000362\n",
      " 2540 |     0.0000 |   1.000345\n",
      " 2550 |     0.0000 |   1.000330\n"
     ]
    },
    {
     "name": "stdout",
     "output_type": "stream",
     "text": [
      " 2560 |     0.0000 |   1.000315\n",
      " 2570 |     0.0000 |   1.000300\n",
      " 2580 |     0.0000 |   1.000287\n",
      " 2590 |     0.0000 |   1.000273\n",
      " 2600 |     0.0000 |   1.000261\n",
      " 2610 |     0.0000 |   1.000249\n",
      " 2620 |     0.0000 |   1.000238\n",
      " 2630 |     0.0000 |   1.000227\n",
      " 2640 |     0.0000 |   1.000216\n",
      " 2650 |     0.0000 |   1.000207\n",
      " 2660 |     0.0000 |   1.000197\n",
      " 2670 |     0.0000 |   1.000188\n",
      " 2680 |     0.0000 |   1.000180\n",
      " 2690 |     0.0000 |   1.000171\n",
      " 2700 |     0.0000 |   1.000163\n",
      " 2710 |     0.0000 |   1.000156\n",
      " 2720 |     0.0000 |   1.000149\n",
      " 2730 |     0.0000 |   1.000142\n",
      " 2740 |     0.0000 |   1.000136\n",
      " 2750 |     0.0000 |   1.000130\n",
      " 2760 |     0.0000 |   1.000124\n",
      " 2770 |     0.0000 |   1.000118\n",
      " 2780 |     0.0000 |   1.000112\n",
      " 2790 |     0.0000 |   1.000108\n",
      " 2800 |     0.0000 |   1.000103\n",
      " 2810 |     0.0000 |   1.000098\n",
      " 2820 |     0.0000 |   1.000093\n",
      " 2830 |     0.0000 |   1.000089\n",
      " 2840 |     0.0000 |   1.000085\n",
      " 2850 |     0.0000 |   1.000082\n",
      " 2860 |     0.0000 |   1.000078\n",
      " 2870 |     0.0000 |   1.000074\n",
      " 2880 |     0.0000 |   1.000071\n",
      " 2890 |     0.0000 |   1.000067\n",
      " 2900 |     0.0000 |   1.000064\n",
      " 2910 |     0.0000 |   1.000061\n",
      " 2920 |     0.0000 |   1.000059\n",
      " 2930 |     0.0000 |   1.000057\n",
      " 2940 |     0.0000 |   1.000054\n",
      " 2950 |     0.0000 |   1.000052\n",
      " 2960 |     0.0000 |   1.000049\n",
      " 2970 |     0.0000 |   1.000047\n",
      " 2980 |     0.0000 |   1.000045\n",
      " 2990 |     0.0000 |   1.000042\n",
      " 3000 |     0.0000 |   1.000040\n",
      " 3010 |     0.0000 |   1.000038\n",
      " 3020 |     0.0000 |   1.000037\n",
      " 3030 |     0.0000 |   1.000035\n",
      " 3040 |     0.0000 |   1.000034\n",
      " 3050 |     0.0000 |   1.000033\n",
      " 3060 |     0.0000 |   1.000032\n",
      " 3070 |     0.0000 |   1.000031\n",
      " 3080 |     0.0000 |   1.000029\n",
      " 3090 |     0.0000 |   1.000028\n",
      " 3100 |     0.0000 |   1.000027\n",
      " 3110 |     0.0000 |   1.000026\n",
      " 3120 |     0.0000 |   1.000025\n",
      " 3130 |     0.0000 |   1.000023\n",
      " 3140 |     0.0000 |   1.000022\n",
      " 3150 |     0.0000 |   1.000021\n",
      " 3160 |     0.0000 |   1.000020\n",
      " 3170 |     0.0000 |   1.000019\n",
      " 3180 |     0.0000 |   1.000018\n",
      " 3190 |     0.0000 |   1.000016\n",
      " 3200 |     0.0000 |   1.000015\n",
      " 3210 |     0.0000 |   1.000014\n",
      " 3220 |     0.0000 |   1.000013\n",
      " 3230 |     0.0000 |   1.000013\n",
      " 3240 |     0.0000 |   1.000013\n",
      " 3250 |     0.0000 |   1.000013\n",
      " 3260 |     0.0000 |   1.000013\n",
      " 3270 |     0.0000 |   1.000013\n",
      " 3280 |     0.0000 |   1.000013\n",
      " 3290 |     0.0000 |   1.000013\n",
      " 3300 |     0.0000 |   1.000013\n",
      " 3310 |     0.0000 |   1.000013\n",
      " 3320 |     0.0000 |   1.000013\n",
      " 3330 |     0.0000 |   1.000013\n",
      " 3340 |     0.0000 |   1.000013\n",
      " 3350 |     0.0000 |   1.000013\n",
      " 3360 |     0.0000 |   1.000013\n",
      " 3370 |     0.0000 |   1.000013\n",
      " 3380 |     0.0000 |   1.000013\n",
      " 3390 |     0.0000 |   1.000013\n",
      " 3400 |     0.0000 |   1.000013\n",
      " 3410 |     0.0000 |   1.000013\n",
      " 3420 |     0.0000 |   1.000013\n",
      " 3430 |     0.0000 |   1.000013\n",
      " 3440 |     0.0000 |   1.000013\n",
      " 3450 |     0.0000 |   1.000013\n",
      " 3460 |     0.0000 |   1.000013\n",
      " 3470 |     0.0000 |   1.000013\n",
      " 3480 |     0.0000 |   1.000013\n",
      " 3490 |     0.0000 |   1.000013\n"
     ]
    }
   ],
   "source": [
    "tf.set_random_seed(0)\n",
    "\n",
    "x_data = [1., 2., 3., 4.]\n",
    "y_data = [1., 3., 5., 7.]\n",
    "\n",
    "W = tf.Variable(tf.random_normal([1], -100., 100.))\n",
    "\n",
    "for step in range(3500):\n",
    "    hypothesis = W * X\n",
    "    cost = tf.reduce_mean(tf.square(hypothesis - Y))\n",
    "    \n",
    "    alpha = 0.001\n",
    "    gradient = tf.reduce_mean(tf.multiply(tf.multiply(W, X) - Y, X))\n",
    "    descent = W - tf.multiply(alpha, gradient)\n",
    "    W.assign(descent)\n",
    "    \n",
    "    if step % 10 == 0:\n",
    "        print('{:5} | {:10.4f} | {:10.6f}'.format(\n",
    "            step, cost.numpy(), W.numpy()[0]))"
   ]
  },
  {
   "cell_type": "code",
   "execution_count": 41,
   "metadata": {},
   "outputs": [
    {
     "name": "stdout",
     "output_type": "stream",
     "text": [
      "tf.Tensor([5.000064], shape=(1,), dtype=float32)\n",
      "tf.Tensor([2.500032], shape=(1,), dtype=float32)\n"
     ]
    }
   ],
   "source": [
    "print(5.0*W)\n",
    "print(2.5*W)"
   ]
  },
  {
   "cell_type": "code",
   "execution_count": null,
   "metadata": {},
   "outputs": [],
   "source": []
  },
  {
   "cell_type": "code",
   "execution_count": null,
   "metadata": {},
   "outputs": [],
   "source": [
    "━━━━━━━━━━━━━━━━━━━━━━━━━━━━"
   ]
  },
  {
   "cell_type": "code",
   "execution_count": null,
   "metadata": {},
   "outputs": [],
   "source": []
  },
  {
   "cell_type": "markdown",
   "metadata": {},
   "source": [
    "\n",
    "§ Lec 04 Multivariable linear Regression\n",
    " ㅇ multivariate(feature) regression문제: 변수가 다수, 추정값은 하나 \n",
    "   -> 매트릭스 및 닷프로덕트 사용하여 다수의 피쳐 및 가중치 연산에 사용\n"
   ]
  },
  {
   "cell_type": "code",
   "execution_count": 42,
   "metadata": {},
   "outputs": [
    {
     "name": "stdout",
     "output_type": "stream",
     "text": [
      "    0 | 351.808533 |     1.1302 |    -6.0234 |  -6.467658\n",
      "   50 | 140.418320 |     1.8173 |    -3.1232 |  -5.317189\n",
      "  100 |  58.373085 |     2.0419 |    -1.2709 |  -4.616140\n",
      "  150 |  25.359882 |     2.0816 |    -0.0864 |  -4.172924\n",
      "  200 |  11.781375 |     2.0552 |     0.6709 |  -3.881300\n",
      "  250 |   6.112636 |     2.0113 |     1.1539 |  -3.680805\n",
      "  300 |   3.711597 |     1.9677 |     1.4604 |  -3.536181\n",
      "  350 |   2.671967 |     1.9300 |     1.6531 |  -3.426413\n",
      "  400 |   2.202548 |     1.8988 |     1.7724 |  -3.338741\n",
      "  450 |   1.973061 |     1.8731 |     1.8443 |  -3.265294\n",
      "  500 |   1.845207 |     1.8515 |     1.8856 |  -3.201159\n",
      "  550 |   1.760961 |     1.8330 |     1.9073 |  -3.143230\n",
      "  600 |   1.695943 |     1.8166 |     1.9163 |  -3.089536\n",
      "  650 |   1.639894 |     1.8018 |     1.9171 |  -3.038818\n",
      "  700 |   1.588473 |     1.7880 |     1.9128 |  -2.990259\n",
      "  750 |   1.539835 |     1.7750 |     1.9051 |  -2.943333\n",
      "  800 |   1.493180 |     1.7625 |     1.8954 |  -2.897700\n",
      "  850 |   1.448144 |     1.7505 |     1.8845 |  -2.853133\n",
      "  900 |   1.404552 |     1.7389 |     1.8728 |  -2.809483\n",
      "  950 |   1.362311 |     1.7275 |     1.8606 |  -2.766651\n",
      " 1000 |   1.321354 |     1.7164 |     1.8483 |  -2.724570\n"
     ]
    }
   ],
   "source": [
    "x1_data = [1, 0, 3, 0, 5]\n",
    "x2_data = [0, 2, 0, 4, 0]\n",
    "y_data  = [1, 2, 3, 4, 5]\n",
    "\n",
    "# tf.random_uniform 난수 생성\n",
    "\n",
    "W1 = tf.Variable(tf.random_uniform([1], -10.0, 10.0))\n",
    "W2 = tf.Variable(tf.random_uniform([1], -10.0, 10.0))\n",
    "b  = tf.Variable(tf.random_uniform([1], -10.0, 10.0))\n",
    "\n",
    "learning_rate = tf.Variable(0.001)\n",
    "\n",
    "for i in range(1000+1):\n",
    "    with tf.GradientTape() as tape:\n",
    "        hypothesis = W1 * x1_data + W2 * x2_data + b\n",
    "        cost = tf.reduce_mean(tf.square(hypothesis - y_data))\n",
    "    W1_grad, W2_grad, b_grad = tape.gradient(cost, [W1, W2, b])\n",
    "    W1.assign_sub(learning_rate * W1_grad)\n",
    "    W2.assign_sub(learning_rate * W2_grad)\n",
    "    b.assign_sub(learning_rate * b_grad)\n",
    "\n",
    "    if i % 50 == 0:\n",
    "        print(\"{:5} | {:10.6f} | {:10.4f} | {:10.4f} | {:10.6f}\".format(\n",
    "          i, cost.numpy(), W1.numpy()[0], W2.numpy()[0], b.numpy()[0]))"
   ]
  },
  {
   "cell_type": "code",
   "execution_count": null,
   "metadata": {},
   "outputs": [],
   "source": []
  },
  {
   "cell_type": "code",
   "execution_count": 53,
   "metadata": {},
   "outputs": [
    {
     "data": {
      "text/plain": [
       "'1.13.1'"
      ]
     },
     "execution_count": 53,
     "metadata": {},
     "output_type": "execute_result"
    }
   ],
   "source": [
    "import tensorflow as tf\n",
    "import numpy as np\n",
    "\n",
    "tf.enable_eager_execution()\n",
    "tf.__version__"
   ]
  },
  {
   "cell_type": "code",
   "execution_count": 68,
   "metadata": {},
   "outputs": [
    {
     "name": "stdout",
     "output_type": "stream",
     "text": [
      "    0 | 335.280823 |    -3.8779 |     1.1496 |  -6.004196\n",
      "   50 |   6.069098 |     1.4523 |     2.0179 |  -4.118774\n",
      "  100 |   2.520065 |     1.9280 |     2.1199 |  -3.758069\n",
      "  150 |   2.264699 |     1.9327 |     2.1007 |  -3.568055\n",
      "  200 |   2.065801 |     1.8948 |     2.0589 |  -3.405035\n",
      "  250 |   1.884994 |     1.8549 |     2.0135 |  -3.251997\n",
      "  300 |   1.720040 |     1.8166 |     1.9686 |  -3.106304\n",
      "  350 |   1.569524 |     1.7800 |     1.9254 |  -2.967244\n",
      "  400 |   1.432179 |     1.7451 |     1.8840 |  -2.834435\n",
      "  450 |   1.306852 |     1.7117 |     1.8445 |  -2.707575\n",
      "  500 |   1.192492 |     1.6799 |     1.8067 |  -2.586396\n",
      "  550 |   1.088140 |     1.6495 |     1.7706 |  -2.470641\n",
      "  600 |   0.992919 |     1.6204 |     1.7361 |  -2.360066\n",
      "  650 |   0.906032 |     1.5926 |     1.7031 |  -2.254441\n",
      "  700 |   0.826747 |     1.5661 |     1.6717 |  -2.153543\n",
      "  750 |   0.754400 |     1.5408 |     1.6416 |  -2.057159\n",
      "  800 |   0.688384 |     1.5166 |     1.6129 |  -1.965090\n",
      "  850 |   0.628145 |     1.4934 |     1.5855 |  -1.877142\n",
      "  900 |   0.573177 |     1.4714 |     1.5593 |  -1.793130\n",
      "  950 |   0.523020 |     1.4503 |     1.5342 |  -1.712878\n",
      " 1000 |   0.477252 |     1.4301 |     1.5103 |  -1.636217\n",
      " 1050 |   0.435488 |     1.4109 |     1.4875 |  -1.562987\n",
      " 1100 |   0.397380 |     1.3925 |     1.4657 |  -1.493035\n",
      " 1150 |   0.362606 |     1.3749 |     1.4448 |  -1.426214\n",
      " 1200 |   0.330875 |     1.3581 |     1.4249 |  -1.362383\n",
      " 1250 |   0.301921 |     1.3421 |     1.4059 |  -1.301409\n",
      " 1300 |   0.275501 |     1.3268 |     1.3877 |  -1.243164\n",
      " 1350 |   0.251392 |     1.3122 |     1.3704 |  -1.187526\n",
      " 1400 |   0.229394 |     1.2982 |     1.3538 |  -1.134378\n",
      " 1450 |   0.209320 |     1.2849 |     1.3380 |  -1.083609\n",
      " 1500 |   0.191003 |     1.2721 |     1.3228 |  -1.035112\n",
      " 1550 |   0.174289 |     1.2599 |     1.3084 |  -0.988785\n",
      " 1600 |   0.159037 |     1.2483 |     1.2946 |  -0.944532\n",
      " 1650 |   0.145120 |     1.2372 |     1.2814 |  -0.902258\n",
      " 1700 |   0.132421 |     1.2266 |     1.2688 |  -0.861877\n",
      " 1750 |   0.120833 |     1.2164 |     1.2568 |  -0.823304\n",
      " 1800 |   0.110259 |     1.2067 |     1.2453 |  -0.786456\n",
      " 1850 |   0.100611 |     1.1975 |     1.2343 |  -0.751258\n",
      " 1900 |   0.091806 |     1.1886 |     1.2238 |  -0.717636\n",
      " 1950 |   0.083773 |     1.1802 |     1.2138 |  -0.685518\n",
      " 2000 |   0.076442 |     1.1721 |     1.2042 |  -0.654837\n",
      " 2050 |   0.069753 |     1.1644 |     1.1951 |  -0.625529\n",
      " 2100 |   0.063649 |     1.1571 |     1.1864 |  -0.597534\n",
      " 2150 |   0.058079 |     1.1500 |     1.1780 |  -0.570791\n",
      " 2200 |   0.052997 |     1.1433 |     1.1701 |  -0.545245\n",
      " 2250 |   0.048359 |     1.1369 |     1.1624 |  -0.520842\n",
      " 2300 |   0.044127 |     1.1308 |     1.1552 |  -0.497531\n",
      " 2350 |   0.040266 |     1.1249 |     1.1482 |  -0.475264\n",
      " 2400 |   0.036742 |     1.1193 |     1.1416 |  -0.453994\n",
      " 2450 |   0.033527 |     1.1140 |     1.1353 |  -0.433675\n",
      " 2500 |   0.030593 |     1.1089 |     1.1292 |  -0.414266\n",
      " 2550 |   0.027916 |     1.1040 |     1.1234 |  -0.395725\n",
      " 2600 |   0.025473 |     1.0994 |     1.1179 |  -0.378014\n",
      " 2650 |   0.023244 |     1.0949 |     1.1126 |  -0.361096\n",
      " 2700 |   0.021210 |     1.0907 |     1.1076 |  -0.344935\n",
      " 2750 |   0.019354 |     1.0866 |     1.1028 |  -0.329497\n",
      " 2800 |   0.017660 |     1.0827 |     1.0982 |  -0.314750\n",
      " 2850 |   0.016115 |     1.0790 |     1.0938 |  -0.300664\n",
      " 2900 |   0.014705 |     1.0755 |     1.0896 |  -0.287207\n",
      " 2950 |   0.013418 |     1.0721 |     1.0856 |  -0.274353\n",
      " 3000 |   0.012244 |     1.0689 |     1.0817 |  -0.262075\n",
      " 3050 |   0.011172 |     1.0658 |     1.0781 |  -0.250345\n",
      " 3100 |   0.010195 |     1.0629 |     1.0746 |  -0.239141\n",
      " 3150 |   0.009303 |     1.0600 |     1.0712 |  -0.228438\n",
      " 3200 |   0.008488 |     1.0574 |     1.0681 |  -0.218214\n",
      " 3250 |   0.007746 |     1.0548 |     1.0650 |  -0.208448\n",
      " 3300 |   0.007068 |     1.0523 |     1.0621 |  -0.199119\n",
      " 3350 |   0.006449 |     1.0500 |     1.0593 |  -0.190207\n",
      " 3400 |   0.005885 |     1.0478 |     1.0567 |  -0.181694\n",
      " 3450 |   0.005370 |     1.0456 |     1.0541 |  -0.173563\n",
      " 3500 |   0.004900 |     1.0436 |     1.0517 |  -0.165795\n",
      " 3550 |   0.004471 |     1.0416 |     1.0494 |  -0.158374\n",
      " 3600 |   0.004080 |     1.0398 |     1.0472 |  -0.151286\n",
      " 3650 |   0.003723 |     1.0380 |     1.0451 |  -0.144516\n",
      " 3700 |   0.003397 |     1.0363 |     1.0431 |  -0.138048\n",
      " 3750 |   0.003100 |     1.0347 |     1.0411 |  -0.131869\n",
      " 3800 |   0.002829 |     1.0331 |     1.0393 |  -0.125967\n",
      " 3850 |   0.002581 |     1.0316 |     1.0375 |  -0.120330\n",
      " 3900 |   0.002355 |     1.0302 |     1.0359 |  -0.114944\n",
      " 3950 |   0.002149 |     1.0289 |     1.0342 |  -0.109800\n",
      " 4000 |   0.001961 |     1.0276 |     1.0327 |  -0.104886\n",
      " 4050 |   0.001789 |     1.0263 |     1.0312 |  -0.100192\n",
      " 4100 |   0.001633 |     1.0252 |     1.0299 |  -0.095708\n",
      " 4150 |   0.001490 |     1.0240 |     1.0285 |  -0.091424\n",
      " 4200 |   0.001360 |     1.0230 |     1.0272 |  -0.087333\n",
      " 4250 |   0.001241 |     1.0219 |     1.0260 |  -0.083424\n",
      " 4300 |   0.001132 |     1.0209 |     1.0249 |  -0.079690\n",
      " 4350 |   0.001033 |     1.0200 |     1.0237 |  -0.076124\n",
      " 4400 |   0.000943 |     1.0191 |     1.0227 |  -0.072717\n",
      " 4450 |   0.000860 |     1.0183 |     1.0217 |  -0.069462\n",
      " 4500 |   0.000785 |     1.0174 |     1.0207 |  -0.066354\n",
      " 4550 |   0.000716 |     1.0167 |     1.0198 |  -0.063384\n",
      " 4600 |   0.000654 |     1.0159 |     1.0189 |  -0.060547\n",
      " 4650 |   0.000596 |     1.0152 |     1.0180 |  -0.057837\n",
      " 4700 |   0.000544 |     1.0145 |     1.0172 |  -0.055249\n",
      " 4750 |   0.000497 |     1.0139 |     1.0165 |  -0.052776\n",
      " 4800 |   0.000453 |     1.0133 |     1.0157 |  -0.050414\n",
      " 4850 |   0.000413 |     1.0127 |     1.0150 |  -0.048158\n",
      " 4900 |   0.000377 |     1.0121 |     1.0143 |  -0.046003\n",
      " 4950 |   0.000344 |     1.0116 |     1.0137 |  -0.043944\n",
      " 5000 |   0.000314 |     1.0110 |     1.0131 |  -0.041977\n",
      " 5050 |   0.000287 |     1.0105 |     1.0125 |  -0.040099\n",
      " 5100 |   0.000262 |     1.0101 |     1.0119 |  -0.038304\n",
      " 5150 |   0.000239 |     1.0096 |     1.0114 |  -0.036590\n",
      " 5200 |   0.000218 |     1.0092 |     1.0109 |  -0.034952\n",
      " 5250 |   0.000199 |     1.0088 |     1.0104 |  -0.033388\n",
      " 5300 |   0.000181 |     1.0084 |     1.0099 |  -0.031894\n",
      " 5350 |   0.000165 |     1.0080 |     1.0095 |  -0.030467\n",
      " 5400 |   0.000151 |     1.0077 |     1.0091 |  -0.029103\n",
      " 5450 |   0.000138 |     1.0073 |     1.0087 |  -0.027801\n",
      " 5500 |   0.000126 |     1.0070 |     1.0083 |  -0.026557\n",
      " 5550 |   0.000115 |     1.0067 |     1.0079 |  -0.025368\n",
      " 5600 |   0.000105 |     1.0064 |     1.0076 |  -0.024233\n",
      " 5650 |   0.000096 |     1.0061 |     1.0072 |  -0.023149\n",
      " 5700 |   0.000087 |     1.0058 |     1.0069 |  -0.022113\n",
      " 5750 |   0.000080 |     1.0056 |     1.0066 |  -0.021123\n",
      " 5800 |   0.000073 |     1.0053 |     1.0063 |  -0.020178\n",
      " 5850 |   0.000066 |     1.0051 |     1.0060 |  -0.019275\n",
      " 5900 |   0.000060 |     1.0048 |     1.0057 |  -0.018413\n",
      " 5950 |   0.000055 |     1.0046 |     1.0055 |  -0.017589\n",
      " 6000 |   0.000050 |     1.0044 |     1.0052 |  -0.016802\n",
      " 6050 |   0.000046 |     1.0042 |     1.0050 |  -0.016050\n",
      " 6100 |   0.000042 |     1.0040 |     1.0048 |  -0.015332\n",
      " 6150 |   0.000038 |     1.0039 |     1.0046 |  -0.014646\n",
      " 6200 |   0.000035 |     1.0037 |     1.0044 |  -0.013991\n",
      " 6250 |   0.000032 |     1.0035 |     1.0042 |  -0.013365\n",
      " 6300 |   0.000029 |     1.0034 |     1.0040 |  -0.012767\n",
      " 6350 |   0.000027 |     1.0032 |     1.0038 |  -0.012196\n",
      " 6400 |   0.000024 |     1.0031 |     1.0036 |  -0.011650\n",
      " 6450 |   0.000022 |     1.0029 |     1.0035 |  -0.011129\n",
      " 6500 |   0.000020 |     1.0028 |     1.0033 |  -0.010631\n",
      " 6550 |   0.000018 |     1.0027 |     1.0032 |  -0.010156\n",
      " 6600 |   0.000017 |     1.0026 |     1.0030 |  -0.009702\n",
      " 6650 |   0.000015 |     1.0024 |     1.0029 |  -0.009268\n",
      " 6700 |   0.000014 |     1.0023 |     1.0028 |  -0.008853\n",
      " 6750 |   0.000013 |     1.0022 |     1.0026 |  -0.008457\n",
      " 6800 |   0.000012 |     1.0021 |     1.0025 |  -0.008079\n",
      " 6850 |   0.000011 |     1.0020 |     1.0024 |  -0.007718\n",
      " 6900 |   0.000010 |     1.0019 |     1.0023 |  -0.007373\n",
      " 6950 |   0.000009 |     1.0019 |     1.0022 |  -0.007043\n",
      " 7000 |   0.000008 |     1.0018 |     1.0021 |  -0.006729\n"
     ]
    }
   ],
   "source": [
    "#example - s variables\n",
    "tf.set_random_seed(0)\n",
    "x1_data = [1,0,3,0,5]\n",
    "x2_data = [0, 2, 0, 4, 0]\n",
    "y_data  = [1, 2, 3, 4, 5]\n",
    "\n",
    "#tf.random_uniform: 균등분포로부터의 난수값을 반환\n",
    "#tf.random_uniform(shape -> ex. 2X3 매트릭스, minval, maxval)\n",
    "\n",
    "W1 = tf.Variable(tf.random_uniform([1], -10.0, 10.0))\n",
    "W2 = tf.Variable(tf.random_uniform([1], -10.0, 10.0))\n",
    "b = tf.Variable(tf.random_uniform([1], -10.0, 10.0))\n",
    "\n",
    "learning_rate = tf.Variable(0.003)\n",
    "\n",
    "for i in range(7000+1):\n",
    "    with tf.GradientTape() as tape:\n",
    "        hypothesis = W1 * x1_data +W2*x2_data +b\n",
    "        cost = tf.reduce_mean(tf.square(hypothesis - y_data))\n",
    "    W1_grad, W2_grad, b_grad = tape.gradient(cost, [W1, W2, b])\n",
    "    W1.assign_sub(learning_rate * W1_grad)\n",
    "    W2.assign_sub(learning_rate * W2_grad)\n",
    "    b.assign_sub(learning_rate * b_grad)\n",
    "    \n",
    "    if i% 50 == 0:\n",
    "         print(\"{:5} | {:10.6f} | {:10.4f} | {:10.4f} | {:10.6f}\".format(\n",
    "          i, cost.numpy(), W1.numpy()[0], W2.numpy()[0], b.numpy()[0]))\n",
    "            #print(\"출력형식\".format(데이터)) 형태로 사용\n",
    "            #\"{n}\"안에 숫자를 지정하여 출력 대상 위치 \n",
    "            #{:길이} : 출력할 데이터의 길이를 지정합니다. 문자열(왼쪽 정렬), 숫자(오른쪽 정렬)\n",
    "            #{:<길이} : 왼쪽 정렬\n",
    "            #{:>길이} : 오른쪽 정렬\n",
    "            #{:^길이} : 가운데 정렬        "
   ]
  },
  {
   "cell_type": "code",
   "execution_count": 69,
   "metadata": {},
   "outputs": [
    {
     "name": "stdout",
     "output_type": "stream",
     "text": [
      "tf.Tensor([0.99504006], shape=(1,), dtype=float32)\n",
      "tf.Tensor([8.008743], shape=(1,), dtype=float32)\n"
     ]
    }
   ],
   "source": [
    "print(W1 * 1 + W2 * 0 + b)\n",
    "print(W1 * 4 + W2 * 4 + b)"
   ]
  },
  {
   "cell_type": "code",
   "execution_count": null,
   "metadata": {},
   "outputs": [],
   "source": []
  },
  {
   "cell_type": "code",
   "execution_count": 80,
   "metadata": {},
   "outputs": [
    {
     "name": "stdout",
     "output_type": "stream",
     "text": [
      "    0 |  36.403778 |    -0.6417 |    -0.3601 |  -0.969585\n",
      "   50 |  24.086193 |    -0.2867 |    -0.1758 |  -0.818279\n",
      "  100 |  16.039627 |    -0.0058 |    -0.0171 |  -0.694400\n",
      "  150 |  10.757798 |     0.2164 |     0.1198 |  -0.592773\n",
      "  200 |   7.271729 |     0.3919 |     0.2381 |  -0.509225\n",
      "  250 |   4.956662 |     0.5304 |     0.3405 |  -0.440390\n",
      "  300 |   3.408673 |     0.6395 |     0.4291 |  -0.383545\n",
      "  350 |   2.365786 |     0.7255 |     0.5059 |  -0.336490\n",
      "  400 |   1.657458 |     0.7930 |     0.5726 |  -0.297440\n",
      "  450 |   1.172190 |     0.8460 |     0.6305 |  -0.264950\n",
      "  500 |   0.836724 |     0.8874 |     0.6809 |  -0.237846\n",
      "  550 |   0.602656 |     0.9198 |     0.7247 |  -0.215171\n",
      "  600 |   0.437805 |     0.9451 |     0.7628 |  -0.196147\n",
      "  650 |   0.320627 |     0.9646 |     0.7961 |  -0.180140\n",
      "  700 |   0.236584 |     0.9798 |     0.8250 |  -0.166631\n",
      "  750 |   0.175786 |     0.9915 |     0.8503 |  -0.155194\n",
      "  800 |   0.131451 |     1.0004 |     0.8723 |  -0.145481\n",
      "  850 |   0.098879 |     1.0072 |     0.8916 |  -0.137204\n",
      "  900 |   0.074787 |     1.0124 |     0.9084 |  -0.130129\n",
      "  950 |   0.056858 |     1.0162 |     0.9231 |  -0.124059\n",
      " 1000 |   0.043444 |     1.0191 |     0.9359 |  -0.118834\n",
      " 1050 |   0.033360 |     1.0211 |     0.9471 |  -0.114319\n",
      " 1100 |   0.025747 |     1.0226 |     0.9569 |  -0.110404\n",
      " 1150 |   0.019979 |     1.0236 |     0.9655 |  -0.106996\n",
      " 1200 |   0.015595 |     1.0243 |     0.9730 |  -0.104018\n",
      " 1250 |   0.012253 |     1.0247 |     0.9795 |  -0.101405\n",
      " 1300 |   0.009700 |     1.0249 |     0.9853 |  -0.099102\n",
      " 1350 |   0.007746 |     1.0249 |     0.9903 |  -0.097065\n",
      " 1400 |   0.006247 |     1.0249 |     0.9946 |  -0.095255\n",
      " 1450 |   0.005095 |     1.0248 |     0.9984 |  -0.093639\n",
      " 1500 |   0.004208 |     1.0246 |     1.0018 |  -0.092189\n",
      " 1550 |   0.003524 |     1.0244 |     1.0047 |  -0.090883\n",
      " 1600 |   0.002995 |     1.0242 |     1.0072 |  -0.089700\n",
      " 1650 |   0.002586 |     1.0239 |     1.0094 |  -0.088625\n",
      " 1700 |   0.002269 |     1.0237 |     1.0114 |  -0.087641\n",
      " 1750 |   0.002022 |     1.0235 |     1.0130 |  -0.086738\n",
      " 1800 |   0.001829 |     1.0232 |     1.0145 |  -0.085903\n",
      " 1850 |   0.001678 |     1.0230 |     1.0157 |  -0.085129\n",
      " 1900 |   0.001560 |     1.0228 |     1.0168 |  -0.084408\n",
      " 1950 |   0.001466 |     1.0225 |     1.0178 |  -0.083733\n",
      " 2000 |   0.001391 |     1.0223 |     1.0186 |  -0.083097\n",
      " 2050 |   0.001331 |     1.0221 |     1.0193 |  -0.082496\n",
      " 2100 |   0.001282 |     1.0219 |     1.0199 |  -0.081927\n",
      " 2150 |   0.001242 |     1.0218 |     1.0204 |  -0.081384\n",
      " 2200 |   0.001209 |     1.0216 |     1.0209 |  -0.080864\n",
      " 2250 |   0.001181 |     1.0214 |     1.0213 |  -0.080366\n",
      " 2300 |   0.001158 |     1.0213 |     1.0216 |  -0.079886\n",
      " 2350 |   0.001137 |     1.0211 |     1.0218 |  -0.079422\n",
      " 2400 |   0.001119 |     1.0210 |     1.0221 |  -0.078973\n",
      " 2450 |   0.001103 |     1.0208 |     1.0222 |  -0.078536\n",
      " 2500 |   0.001088 |     1.0207 |     1.0224 |  -0.078111\n",
      " 2550 |   0.001075 |     1.0206 |     1.0225 |  -0.077696\n",
      " 2600 |   0.001062 |     1.0205 |     1.0226 |  -0.077291\n",
      " 2650 |   0.001051 |     1.0203 |     1.0226 |  -0.076893\n",
      " 2700 |   0.001039 |     1.0202 |     1.0227 |  -0.076503\n",
      " 2750 |   0.001029 |     1.0201 |     1.0227 |  -0.076119\n",
      " 2800 |   0.001018 |     1.0200 |     1.0227 |  -0.075741\n",
      " 2850 |   0.001008 |     1.0199 |     1.0227 |  -0.075369\n",
      " 2900 |   0.000999 |     1.0198 |     1.0227 |  -0.075001\n",
      " 2950 |   0.000989 |     1.0197 |     1.0227 |  -0.074639\n",
      " 3000 |   0.000980 |     1.0196 |     1.0226 |  -0.074280\n",
      " 3050 |   0.000970 |     1.0195 |     1.0226 |  -0.073925\n",
      " 3100 |   0.000961 |     1.0194 |     1.0225 |  -0.073574\n",
      " 3150 |   0.000952 |     1.0193 |     1.0225 |  -0.073226\n",
      " 3200 |   0.000944 |     1.0192 |     1.0224 |  -0.072881\n",
      " 3250 |   0.000935 |     1.0191 |     1.0223 |  -0.072539\n",
      " 3300 |   0.000926 |     1.0190 |     1.0223 |  -0.072199\n",
      " 3350 |   0.000918 |     1.0189 |     1.0222 |  -0.071863\n",
      " 3400 |   0.000910 |     1.0188 |     1.0221 |  -0.071528\n",
      " 3450 |   0.000901 |     1.0187 |     1.0220 |  -0.071196\n",
      " 3500 |   0.000893 |     1.0186 |     1.0220 |  -0.070866\n",
      " 3550 |   0.000885 |     1.0186 |     1.0219 |  -0.070539\n",
      " 3600 |   0.000877 |     1.0185 |     1.0218 |  -0.070213\n",
      " 3650 |   0.000869 |     1.0184 |     1.0217 |  -0.069889\n",
      " 3700 |   0.000861 |     1.0183 |     1.0216 |  -0.069567\n",
      " 3750 |   0.000853 |     1.0182 |     1.0215 |  -0.069247\n",
      " 3800 |   0.000845 |     1.0181 |     1.0214 |  -0.068929\n",
      " 3850 |   0.000838 |     1.0180 |     1.0213 |  -0.068612\n",
      " 3900 |   0.000830 |     1.0180 |     1.0212 |  -0.068297\n",
      " 3950 |   0.000822 |     1.0179 |     1.0212 |  -0.067984\n",
      " 4000 |   0.000815 |     1.0178 |     1.0211 |  -0.067673\n",
      " 4050 |   0.000807 |     1.0177 |     1.0210 |  -0.067363\n",
      " 4100 |   0.000800 |     1.0176 |     1.0209 |  -0.067055\n",
      " 4150 |   0.000793 |     1.0175 |     1.0208 |  -0.066748\n",
      " 4200 |   0.000786 |     1.0175 |     1.0207 |  -0.066442\n",
      " 4250 |   0.000778 |     1.0174 |     1.0206 |  -0.066139\n",
      " 4300 |   0.000771 |     1.0173 |     1.0205 |  -0.065836\n",
      " 4350 |   0.000764 |     1.0172 |     1.0204 |  -0.065536\n",
      " 4400 |   0.000757 |     1.0172 |     1.0203 |  -0.065236\n",
      " 4450 |   0.000751 |     1.0171 |     1.0203 |  -0.064939\n",
      " 4500 |   0.000744 |     1.0170 |     1.0202 |  -0.064643\n",
      " 4550 |   0.000737 |     1.0169 |     1.0201 |  -0.064348\n",
      " 4600 |   0.000730 |     1.0168 |     1.0200 |  -0.064055\n",
      " 4650 |   0.000724 |     1.0168 |     1.0199 |  -0.063763\n",
      " 4700 |   0.000717 |     1.0167 |     1.0198 |  -0.063473\n",
      " 4750 |   0.000711 |     1.0166 |     1.0197 |  -0.063183\n",
      " 4800 |   0.000704 |     1.0165 |     1.0196 |  -0.062896\n",
      " 4850 |   0.000698 |     1.0165 |     1.0195 |  -0.062609\n",
      " 4900 |   0.000691 |     1.0164 |     1.0194 |  -0.062323\n",
      " 4950 |   0.000685 |     1.0163 |     1.0194 |  -0.062039\n",
      " 5000 |   0.000679 |     1.0162 |     1.0193 |  -0.061756\n",
      " 5050 |   0.000673 |     1.0162 |     1.0192 |  -0.061474\n",
      " 5100 |   0.000666 |     1.0161 |     1.0191 |  -0.061194\n",
      " 5150 |   0.000660 |     1.0160 |     1.0190 |  -0.060915\n",
      " 5200 |   0.000654 |     1.0159 |     1.0189 |  -0.060637\n",
      " 5250 |   0.000648 |     1.0159 |     1.0188 |  -0.060360\n",
      " 5300 |   0.000643 |     1.0158 |     1.0187 |  -0.060085\n",
      " 5350 |   0.000637 |     1.0157 |     1.0187 |  -0.059812\n",
      " 5400 |   0.000631 |     1.0157 |     1.0186 |  -0.059539\n",
      " 5450 |   0.000625 |     1.0156 |     1.0185 |  -0.059268\n",
      " 5500 |   0.000620 |     1.0155 |     1.0184 |  -0.058998\n",
      " 5550 |   0.000614 |     1.0154 |     1.0183 |  -0.058730\n",
      " 5600 |   0.000608 |     1.0154 |     1.0182 |  -0.058462\n",
      " 5650 |   0.000603 |     1.0153 |     1.0182 |  -0.058196\n",
      " 5700 |   0.000597 |     1.0152 |     1.0181 |  -0.057931\n",
      " 5750 |   0.000592 |     1.0152 |     1.0180 |  -0.057667\n",
      " 5800 |   0.000586 |     1.0151 |     1.0179 |  -0.057404\n",
      " 5850 |   0.000581 |     1.0150 |     1.0178 |  -0.057142\n",
      " 5900 |   0.000576 |     1.0150 |     1.0177 |  -0.056881\n",
      " 5950 |   0.000571 |     1.0149 |     1.0177 |  -0.056621\n",
      " 6000 |   0.000565 |     1.0148 |     1.0176 |  -0.056363\n"
     ]
    }
   ],
   "source": [
    "#2 variables with matrix\n",
    "x_data = [\n",
    "    [1., 0., 3., 0., 5.],\n",
    "    [0., 2., 0., 4., 0.]\n",
    "]\n",
    "y_data  = [1, 2, 3, 4, 5]\n",
    "\n",
    "W= tf.Variable(tf.random_uniform([1,2], -1.0, 1.0))\n",
    "b = tf.Variable(tf.random_uniform([1], -1.0, 1.0))\n",
    "\n",
    "learning_rate = tf.Variable(0.0003)\n",
    "\n",
    "for i in range(6000+1):\n",
    "    with tf.GradientTape() as tape:\n",
    "            hypothesis = tf.matmul(W, x_data) +b \n",
    "            #matmul 행렬곱 함수\n",
    "            cost= tf.reduce_mean(tf.square(hypothesis - y_data))\n",
    "            W_grad, b_grad = tape.gradient(cost, [W, b])\n",
    "            #tape.gradient -> 자동 미분       \n",
    "            W.assign_sub(learning_rate * W_grad)\n",
    "            b.assign_sub(learning_rate * b_grad)\n",
    "    if i % 50 == 0:\n",
    "        print(\"{:5} | {:10.6f} | {:10.4f} | {:10.4f} | {:10.6f}\".format(i, cost.numpy(), W.numpy()[0][0], W.numpy()[0][1], b.numpy()[0]))\n",
    "    "
   ]
  },
  {
   "cell_type": "code",
   "execution_count": 81,
   "metadata": {},
   "outputs": [
    {
     "name": "stdout",
     "output_type": "stream",
     "text": [
      "tf.Tensor([[1.9206071]], shape=(1, 1), dtype=float32)\n"
     ]
    }
   ],
   "source": [
    "#변수가 2개인 매트릭스 모델 테스트 \n",
    "test_data =[\n",
    "[0.],\n",
    "[2.]\n",
    "]\n",
    "print(tf.matmul(W, test_data + b))"
   ]
  },
  {
   "cell_type": "code",
   "execution_count": 74,
   "metadata": {},
   "outputs": [
    {
     "data": {
      "text/plain": [
       "2.0"
      ]
     },
     "execution_count": 74,
     "metadata": {},
     "output_type": "execute_result"
    }
   ],
   "source": []
  },
  {
   "cell_type": "code",
   "execution_count": null,
   "metadata": {},
   "outputs": [],
   "source": []
  },
  {
   "cell_type": "code",
   "execution_count": null,
   "metadata": {},
   "outputs": [],
   "source": []
  },
  {
   "cell_type": "code",
   "execution_count": null,
   "metadata": {},
   "outputs": [],
   "source": []
  },
  {
   "cell_type": "code",
   "execution_count": null,
   "metadata": {},
   "outputs": [],
   "source": [
    "━━━━━━━━━━━━━━━━━━━━━━━━━━━━"
   ]
  },
  {
   "cell_type": "code",
   "execution_count": null,
   "metadata": {},
   "outputs": [],
   "source": []
  },
  {
   "attachments": {},
   "cell_type": "markdown",
   "metadata": {},
   "source": [
    "\n",
    "§ Lec 05 Logistic Regression\n",
    " ㅇ 개념\n",
    "    분류 -> discrete한 데이터 분류는 로지스틱리그레션\n",
    "    예측 -> continuous한 데이터 예측은 리니어 리그레션 사용\n",
    " ㅇ Hypothesis representation\n",
    "    파라메터 -> linear function -> logistic function -> decision boundary -> 분류값\n",
    "    과정을 통해 분류값을 구하게되며, 로지스틱 펑션으로 hypothesis representation\n",
    "    즉, 기존 펑션을 이산값 표현화하고, 디시젼 바운더리 기준으로 binary한 분류 가능하게 해줌\n",
    "\n",
    " ㅇ sigmoid\n",
    "    g(z) = 1/(1+e^(-z))\n",
    "    -> 로지스틱펑션 입력값 z가 커지면 1에 수렴, Z 작아지면 0에 수렴하여 1,0 으로 분류값 산출\n",
    "  \n",
    " ㅇ Cost function\n",
    "    - 컨벡스 함수화 필요\n",
    "    logistic regression에서도 cost function(추정값과 실제값의 차이) 최소화\n",
    "    추정값의 경우 Sigmoid 등 logistics function 아웃풋을 사용하므로, \n",
    "    0과 1사이의 연속적인 값\n",
    "    실제값의 경우 분류 레이블이므로 0 또는 1의 이산 값 \n",
    "    -> logistics function 아웃풋과 분류값 차이만을 사용하면 코스트펑션 컨벡스 하지 않음\n",
    "    \n",
    "    - 이러한 문제 해결위한 방법으로 log 및 실제 분류값 y와의 곱 활용\n",
    "      1. 분류값 1 -> 로지스틱 함수값 1이면 코스트펑션 0, 0에 가까울수록 무한대 발산\n",
    "      2. 분류값 0 -> 로지스틱 함수값 0이면 코스트펑션 0, 1에 가까울수록 무한대 발산\n",
    "     하는 코스트펑션 구성\n",
    "        \n",
    "       "
   ]
  },
  {
   "cell_type": "code",
   "execution_count": 43,
   "metadata": {},
   "outputs": [
    {
     "name": "stdout",
     "output_type": "stream",
     "text": [
      "1.13.1\n"
     ]
    }
   ],
   "source": [
    "import numpy as np\n",
    "import matplotlib.pyplot as plt\n",
    "%matplotlib inline\n",
    "import tensorflow as tf\n",
    "import tensorflow.contrib.eager as tfe\n",
    "\n",
    "tf.enable_eager_execution()\n",
    "tf.set_random_seed(777)  # for reproducibility\n",
    "print(tf.__version__)"
   ]
  },
  {
   "cell_type": "code",
   "execution_count": 44,
   "metadata": {},
   "outputs": [
    {
     "data": {
      "image/png": "[encoded data removed]",
      "text/plain": [
       "<Figure size 432x288 with 1 Axes>"
      ]
     },
     "metadata": {
      "needs_background": "light"
     },
     "output_type": "display_data"
    }
   ],
   "source": [
    "x_train = [[1., 2.],\n",
    "          [2., 3.],\n",
    "          [3., 1.],\n",
    "          [4., 3.],\n",
    "          [5., 3.],\n",
    "          [6., 2.]]\n",
    "y_train = [[0.],\n",
    "          [0.],\n",
    "          [0.],\n",
    "          [1.],\n",
    "          [1.],\n",
    "          [1.]]\n",
    "\n",
    "x_test = [[5.,2.]]\n",
    "y_test = [[1.]]\n",
    "\n",
    "\n",
    "x1 = [x[0] for x in x_train]\n",
    "x2 = [x[1] for x in x_train]\n",
    "\n",
    "colors = [int(y[0] % 3) for y in y_train]\n",
    "plt.scatter(x1,x2, c=colors , marker='^')\n",
    "plt.scatter(x_test[0][0],x_test[0][1], c=\"red\")\n",
    "\n",
    "plt.xlabel(\"x1\")\n",
    "plt.ylabel(\"x2\")\n",
    "plt.show()"
   ]
  },
  {
   "cell_type": "code",
   "execution_count": 45,
   "metadata": {},
   "outputs": [],
   "source": [
    "dataset = tf.data.Dataset.from_tensor_slices((x_train, y_train)).batch(len(x_train))#.repeat()"
   ]
  },
  {
   "cell_type": "code",
   "execution_count": 46,
   "metadata": {},
   "outputs": [],
   "source": [
    "W = tf.Variable(tf.zeros([2,1]), name='weight')\n",
    "b = tf.Variable(tf.zeros([1]), name='bias')"
   ]
  },
  {
   "cell_type": "code",
   "execution_count": 47,
   "metadata": {},
   "outputs": [],
   "source": [
    "def logistic_regression(features):\n",
    "    hypothesis  = tf.div(1., 1. + tf.exp(tf.matmul(features, W) + b))\n",
    "    return hypothesis"
   ]
  },
  {
   "cell_type": "code",
   "execution_count": 48,
   "metadata": {},
   "outputs": [],
   "source": [
    "def loss_fn(hypothesis, features, labels):\n",
    "    cost = -tf.reduce_mean(labels * tf.log(logistic_regression(features)) + (1 - labels) * tf.log(1 - hypothesis))\n",
    "    return cost\n",
    "\n",
    "optimizer = tf.train.GradientDescentOptimizer(learning_rate=0.01)"
   ]
  },
  {
   "cell_type": "code",
   "execution_count": 49,
   "metadata": {},
   "outputs": [],
   "source": [
    "def accuracy_fn(hypothesis, labels):\n",
    "    predicted = tf.cast(hypothesis > 0.5, dtype=tf.float32)\n",
    "    accuracy = tf.reduce_mean(tf.cast(tf.equal(predicted, labels), dtype=tf.int32))\n",
    "    return accuracy"
   ]
  },
  {
   "cell_type": "code",
   "execution_count": 50,
   "metadata": {},
   "outputs": [],
   "source": [
    "def grad(hypothesis, features, labels):\n",
    "    with tf.GradientTape() as tape:\n",
    "        loss_value = loss_fn(logistic_regression(features),features,labels)\n",
    "    return tape.gradient(loss_value, [W,b])"
   ]
  },
  {
   "cell_type": "code",
   "execution_count": 52,
   "metadata": {
    "scrolled": true
   },
   "outputs": [
    {
     "name": "stdout",
     "output_type": "stream",
     "text": [
      "WARNING:tensorflow:From <ipython-input-47-6afa75b867be>:2: div (from tensorflow.python.ops.math_ops) is deprecated and will be removed in a future version.\n",
      "Instructions for updating:\n",
      "Deprecated in favor of operator or tf.math.divide.\n",
      "Iter: 0, Loss: 0.6874\n",
      "Iter: 100, Loss: 0.5776\n",
      "Iter: 200, Loss: 0.5349\n",
      "Iter: 300, Loss: 0.5054\n",
      "Iter: 400, Loss: 0.4838\n",
      "Iter: 500, Loss: 0.4671\n",
      "Iter: 600, Loss: 0.4535\n",
      "Iter: 700, Loss: 0.4420\n",
      "Iter: 800, Loss: 0.4319\n",
      "Iter: 900, Loss: 0.4228\n",
      "Iter: 1000, Loss: 0.4144\n",
      "Testset Accuracy: 1.0000\n"
     ]
    }
   ],
   "source": [
    "EPOCHS = 1001\n",
    "\n",
    "for step in range(EPOCHS):\n",
    "    for features, labels  in tfe.Iterator(dataset):\n",
    "        grads = grad(logistic_regression(features), features, labels)\n",
    "        optimizer.apply_gradients(grads_and_vars=zip(grads,[W,b]))\n",
    "        if step % 100 == 0:\n",
    "            print(\"Iter: {}, Loss: {:.4f}\".format(step, loss_fn(logistic_regression(features),features,labels)))\n",
    "test_acc = accuracy_fn(logistic_regression(x_test),y_test)\n",
    "print(\"Testset Accuracy: {:.4f}\".format(test_acc))"
   ]
  },
  {
   "cell_type": "code",
   "execution_count": null,
   "metadata": {},
   "outputs": [],
   "source": []
  },
  {
   "cell_type": "code",
   "execution_count": null,
   "metadata": {},
   "outputs": [],
   "source": [
    "━━━━━━━━━━━━━━━━━━━━━━━━━━━━"
   ]
  },
  {
   "cell_type": "code",
   "execution_count": null,
   "metadata": {},
   "outputs": [],
   "source": []
  }
 ],
 "metadata": {
  "kernelspec": {
   "display_name": "Python 3",
   "language": "python",
   "name": "python3"
  },
  "language_info": {
   "codemirror_mode": {
    "name": "ipython",
    "version": 3
   },
   "file_extension": ".py",
   "mimetype": "text/x-python",
   "name": "python",
   "nbconvert_exporter": "python",
   "pygments_lexer": "ipython3",
   "version": "3.7.3"
  }
 },
 "nbformat": 4,
 "nbformat_minor": 2
}
